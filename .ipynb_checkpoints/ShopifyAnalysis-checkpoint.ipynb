{
 "cells": [
  {
   "cell_type": "markdown",
   "metadata": {},
   "source": [
    "### Question 1: Given some sample data, write a program to answer the following: click here to access the required data set\n",
    "\n",
    "On Shopify, we have exactly 100 sneaker shops, and each of these shops sells only one model of shoe. We want to do some analysis of the average order value (AOV). When we look at orders data over a 30 day window, we naively calculate an AOV of $3145.13. Given that we know these shops are selling sneakers, a relatively affordable item, something seems wrong with our analysis. \n",
    "\n",
    "Think about what could be going wrong with our calculation. Think about a better way to evaluate this data. \n",
    "- **What metric would you report for this dataset?**\n",
    "- **What is its value?**\n",
    "\n"
   ]
  },
  {
   "cell_type": "markdown",
   "metadata": {},
   "source": [
    "![Average Order Value](AOV.jpg)"
   ]
  },
  {
   "cell_type": "markdown",
   "metadata": {},
   "source": [
    "#### Import Libraries"
   ]
  },
  {
   "cell_type": "code",
   "execution_count": 1,
   "metadata": {},
   "outputs": [],
   "source": [
    "import matplotlib as mpl\n",
    "import matplotlib.pyplot as plt\n",
    "import pandas as pd\n",
    "import numpy as np\n",
    "import seaborn as sns"
   ]
  },
  {
   "cell_type": "code",
   "execution_count": 2,
   "metadata": {},
   "outputs": [],
   "source": [
    "%matplotlib widget"
   ]
  },
  {
   "cell_type": "markdown",
   "metadata": {},
   "source": [
    "Load Data"
   ]
  },
  {
   "cell_type": "code",
   "execution_count": 3,
   "metadata": {},
   "outputs": [],
   "source": [
    "df = pd.read_excel(r\"C:\\Users\\jarre\\OneDrive\\Desktop\\Data_Science\\GL_DataScience\\CaseStudy_Problems\\Shopify_Challenge22\\2019 Winter Data Science Intern Challenge Data Set.xlsx\")"
   ]
  },
  {
   "cell_type": "code",
   "execution_count": 4,
   "metadata": {},
   "outputs": [
    {
     "data": {
      "text/html": [
       "<div>\n",
       "<style scoped>\n",
       "    .dataframe tbody tr th:only-of-type {\n",
       "        vertical-align: middle;\n",
       "    }\n",
       "\n",
       "    .dataframe tbody tr th {\n",
       "        vertical-align: top;\n",
       "    }\n",
       "\n",
       "    .dataframe thead th {\n",
       "        text-align: right;\n",
       "    }\n",
       "</style>\n",
       "<table border=\"1\" class=\"dataframe\">\n",
       "  <thead>\n",
       "    <tr style=\"text-align: right;\">\n",
       "      <th></th>\n",
       "      <th>order_id</th>\n",
       "      <th>shop_id</th>\n",
       "      <th>user_id</th>\n",
       "      <th>order_amount</th>\n",
       "      <th>total_items</th>\n",
       "      <th>payment_method</th>\n",
       "      <th>created_at</th>\n",
       "    </tr>\n",
       "  </thead>\n",
       "  <tbody>\n",
       "    <tr>\n",
       "      <th>0</th>\n",
       "      <td>1</td>\n",
       "      <td>53</td>\n",
       "      <td>746</td>\n",
       "      <td>224</td>\n",
       "      <td>2</td>\n",
       "      <td>cash</td>\n",
       "      <td>2017-03-13 12:36:56.190</td>\n",
       "    </tr>\n",
       "    <tr>\n",
       "      <th>1</th>\n",
       "      <td>2</td>\n",
       "      <td>92</td>\n",
       "      <td>925</td>\n",
       "      <td>90</td>\n",
       "      <td>1</td>\n",
       "      <td>cash</td>\n",
       "      <td>2017-03-03 17:38:51.999</td>\n",
       "    </tr>\n",
       "    <tr>\n",
       "      <th>2</th>\n",
       "      <td>3</td>\n",
       "      <td>44</td>\n",
       "      <td>861</td>\n",
       "      <td>144</td>\n",
       "      <td>1</td>\n",
       "      <td>cash</td>\n",
       "      <td>2017-03-14 04:23:55.595</td>\n",
       "    </tr>\n",
       "    <tr>\n",
       "      <th>3</th>\n",
       "      <td>4</td>\n",
       "      <td>18</td>\n",
       "      <td>935</td>\n",
       "      <td>156</td>\n",
       "      <td>1</td>\n",
       "      <td>credit_card</td>\n",
       "      <td>2017-03-26 12:43:36.649</td>\n",
       "    </tr>\n",
       "    <tr>\n",
       "      <th>4</th>\n",
       "      <td>5</td>\n",
       "      <td>18</td>\n",
       "      <td>883</td>\n",
       "      <td>156</td>\n",
       "      <td>1</td>\n",
       "      <td>credit_card</td>\n",
       "      <td>2017-03-01 04:35:10.773</td>\n",
       "    </tr>\n",
       "  </tbody>\n",
       "</table>\n",
       "</div>"
      ],
      "text/plain": [
       "   order_id  shop_id  user_id  order_amount  total_items payment_method  \\\n",
       "0         1       53      746           224            2           cash   \n",
       "1         2       92      925            90            1           cash   \n",
       "2         3       44      861           144            1           cash   \n",
       "3         4       18      935           156            1    credit_card   \n",
       "4         5       18      883           156            1    credit_card   \n",
       "\n",
       "               created_at  \n",
       "0 2017-03-13 12:36:56.190  \n",
       "1 2017-03-03 17:38:51.999  \n",
       "2 2017-03-14 04:23:55.595  \n",
       "3 2017-03-26 12:43:36.649  \n",
       "4 2017-03-01 04:35:10.773  "
      ]
     },
     "execution_count": 4,
     "metadata": {},
     "output_type": "execute_result"
    }
   ],
   "source": [
    "df.head()"
   ]
  },
  {
   "cell_type": "code",
   "execution_count": 5,
   "metadata": {},
   "outputs": [
    {
     "name": "stdout",
     "output_type": "stream",
     "text": [
      "<class 'pandas.core.frame.DataFrame'>\n",
      "RangeIndex: 5000 entries, 0 to 4999\n",
      "Data columns (total 7 columns):\n",
      " #   Column          Non-Null Count  Dtype         \n",
      "---  ------          --------------  -----         \n",
      " 0   order_id        5000 non-null   int64         \n",
      " 1   shop_id         5000 non-null   int64         \n",
      " 2   user_id         5000 non-null   int64         \n",
      " 3   order_amount    5000 non-null   int64         \n",
      " 4   total_items     5000 non-null   int64         \n",
      " 5   payment_method  5000 non-null   object        \n",
      " 6   created_at      5000 non-null   datetime64[ns]\n",
      "dtypes: datetime64[ns](1), int64(5), object(1)\n",
      "memory usage: 273.6+ KB\n"
     ]
    }
   ],
   "source": [
    "df.info()"
   ]
  },
  {
   "cell_type": "markdown",
   "metadata": {},
   "source": [
    "- 5000 rows of data\n",
    "- 1 time series\n",
    "- 5 numerical columns \n",
    "- 1 categorical column\n",
    "- no null values"
   ]
  },
  {
   "cell_type": "code",
   "execution_count": 6,
   "metadata": {},
   "outputs": [
    {
     "data": {
      "text/plain": [
       "order_id          False\n",
       "shop_id           False\n",
       "user_id           False\n",
       "order_amount      False\n",
       "total_items       False\n",
       "payment_method    False\n",
       "created_at        False\n",
       "dtype: bool"
      ]
     },
     "execution_count": 6,
     "metadata": {},
     "output_type": "execute_result"
    }
   ],
   "source": [
    "df.isnull().any()"
   ]
  },
  {
   "cell_type": "code",
   "execution_count": 7,
   "metadata": {},
   "outputs": [
    {
     "data": {
      "text/plain": [
       "order_id          5000\n",
       "shop_id            100\n",
       "user_id            301\n",
       "order_amount       258\n",
       "total_items          8\n",
       "payment_method       3\n",
       "created_at        4995\n",
       "dtype: int64"
      ]
     },
     "execution_count": 7,
     "metadata": {},
     "output_type": "execute_result"
    }
   ],
   "source": [
    "df.nunique()"
   ]
  },
  {
   "cell_type": "markdown",
   "metadata": {},
   "source": [
    "#### Checks out there are 100 stores shown as 100 unique ids in shop id column\n",
    "#### We see 3 different payment types"
   ]
  },
  {
   "cell_type": "code",
   "execution_count": 8,
   "metadata": {},
   "outputs": [
    {
     "data": {
      "text/html": [
       "<div>\n",
       "<style scoped>\n",
       "    .dataframe tbody tr th:only-of-type {\n",
       "        vertical-align: middle;\n",
       "    }\n",
       "\n",
       "    .dataframe tbody tr th {\n",
       "        vertical-align: top;\n",
       "    }\n",
       "\n",
       "    .dataframe thead th {\n",
       "        text-align: right;\n",
       "    }\n",
       "</style>\n",
       "<table border=\"1\" class=\"dataframe\">\n",
       "  <thead>\n",
       "    <tr style=\"text-align: right;\">\n",
       "      <th></th>\n",
       "      <th>count</th>\n",
       "      <th>mean</th>\n",
       "      <th>std</th>\n",
       "      <th>min</th>\n",
       "      <th>25%</th>\n",
       "      <th>50%</th>\n",
       "      <th>75%</th>\n",
       "      <th>max</th>\n",
       "    </tr>\n",
       "  </thead>\n",
       "  <tbody>\n",
       "    <tr>\n",
       "      <th>order_id</th>\n",
       "      <td>5000.0</td>\n",
       "      <td>2500.5000</td>\n",
       "      <td>1443.520003</td>\n",
       "      <td>1.0</td>\n",
       "      <td>1250.75</td>\n",
       "      <td>2500.5</td>\n",
       "      <td>3750.25</td>\n",
       "      <td>5000.0</td>\n",
       "    </tr>\n",
       "    <tr>\n",
       "      <th>shop_id</th>\n",
       "      <td>5000.0</td>\n",
       "      <td>50.0788</td>\n",
       "      <td>29.006118</td>\n",
       "      <td>1.0</td>\n",
       "      <td>24.00</td>\n",
       "      <td>50.0</td>\n",
       "      <td>75.00</td>\n",
       "      <td>100.0</td>\n",
       "    </tr>\n",
       "    <tr>\n",
       "      <th>user_id</th>\n",
       "      <td>5000.0</td>\n",
       "      <td>849.0924</td>\n",
       "      <td>87.798982</td>\n",
       "      <td>607.0</td>\n",
       "      <td>775.00</td>\n",
       "      <td>849.0</td>\n",
       "      <td>925.00</td>\n",
       "      <td>999.0</td>\n",
       "    </tr>\n",
       "    <tr>\n",
       "      <th>order_amount</th>\n",
       "      <td>5000.0</td>\n",
       "      <td>3145.1280</td>\n",
       "      <td>41282.539349</td>\n",
       "      <td>90.0</td>\n",
       "      <td>163.00</td>\n",
       "      <td>284.0</td>\n",
       "      <td>390.00</td>\n",
       "      <td>704000.0</td>\n",
       "    </tr>\n",
       "    <tr>\n",
       "      <th>total_items</th>\n",
       "      <td>5000.0</td>\n",
       "      <td>8.7872</td>\n",
       "      <td>116.320320</td>\n",
       "      <td>1.0</td>\n",
       "      <td>1.00</td>\n",
       "      <td>2.0</td>\n",
       "      <td>3.00</td>\n",
       "      <td>2000.0</td>\n",
       "    </tr>\n",
       "  </tbody>\n",
       "</table>\n",
       "</div>"
      ],
      "text/plain": [
       "               count       mean           std    min      25%     50%  \\\n",
       "order_id      5000.0  2500.5000   1443.520003    1.0  1250.75  2500.5   \n",
       "shop_id       5000.0    50.0788     29.006118    1.0    24.00    50.0   \n",
       "user_id       5000.0   849.0924     87.798982  607.0   775.00   849.0   \n",
       "order_amount  5000.0  3145.1280  41282.539349   90.0   163.00   284.0   \n",
       "total_items   5000.0     8.7872    116.320320    1.0     1.00     2.0   \n",
       "\n",
       "                  75%       max  \n",
       "order_id      3750.25    5000.0  \n",
       "shop_id         75.00     100.0  \n",
       "user_id        925.00     999.0  \n",
       "order_amount   390.00  704000.0  \n",
       "total_items      3.00    2000.0  "
      ]
     },
     "execution_count": 8,
     "metadata": {},
     "output_type": "execute_result"
    }
   ],
   "source": [
    "df.describe().T"
   ]
  },
  {
   "cell_type": "markdown",
   "metadata": {},
   "source": [
    "#### Observations\n",
    "- We see the average total items is 8.78 where the median is at 2.  The range is 1 to 2000.  One very large order skewed the data.\n",
    "- The standard deviation for order amount is abnormaly large.  The mean is far larger than the median value hence we have an outlier here"
   ]
  },
  {
   "cell_type": "code",
   "execution_count": 9,
   "metadata": {},
   "outputs": [
    {
     "data": {
      "text/plain": [
       "Index(['order_id', 'shop_id', 'user_id', 'order_amount', 'total_items',\n",
       "       'payment_method', 'created_at'],\n",
       "      dtype='object')"
      ]
     },
     "execution_count": 9,
     "metadata": {},
     "output_type": "execute_result"
    }
   ],
   "source": [
    "df.columns"
   ]
  },
  {
   "cell_type": "markdown",
   "metadata": {},
   "source": [
    "#### Plot Distribution and Outliers"
   ]
  },
  {
   "cell_type": "code",
   "execution_count": 10,
   "metadata": {},
   "outputs": [],
   "source": [
    "\n",
    "\n",
    "#plot hist\n",
    "\n",
    "#plot box"
   ]
  },
  {
   "cell_type": "code",
   "execution_count": 11,
   "metadata": {},
   "outputs": [
    {
     "data": {
      "text/html": [
       "<div>\n",
       "<style scoped>\n",
       "    .dataframe tbody tr th:only-of-type {\n",
       "        vertical-align: middle;\n",
       "    }\n",
       "\n",
       "    .dataframe tbody tr th {\n",
       "        vertical-align: top;\n",
       "    }\n",
       "\n",
       "    .dataframe thead th {\n",
       "        text-align: right;\n",
       "    }\n",
       "</style>\n",
       "<table border=\"1\" class=\"dataframe\">\n",
       "  <thead>\n",
       "    <tr style=\"text-align: right;\">\n",
       "      <th></th>\n",
       "      <th>order_amount</th>\n",
       "      <th>total_items</th>\n",
       "      <th>shop_id</th>\n",
       "    </tr>\n",
       "  </thead>\n",
       "  <tbody>\n",
       "    <tr>\n",
       "      <th>0</th>\n",
       "      <td>224</td>\n",
       "      <td>2</td>\n",
       "      <td>53</td>\n",
       "    </tr>\n",
       "    <tr>\n",
       "      <th>1</th>\n",
       "      <td>90</td>\n",
       "      <td>1</td>\n",
       "      <td>92</td>\n",
       "    </tr>\n",
       "    <tr>\n",
       "      <th>2</th>\n",
       "      <td>144</td>\n",
       "      <td>1</td>\n",
       "      <td>44</td>\n",
       "    </tr>\n",
       "    <tr>\n",
       "      <th>3</th>\n",
       "      <td>156</td>\n",
       "      <td>1</td>\n",
       "      <td>18</td>\n",
       "    </tr>\n",
       "    <tr>\n",
       "      <th>4</th>\n",
       "      <td>156</td>\n",
       "      <td>1</td>\n",
       "      <td>18</td>\n",
       "    </tr>\n",
       "  </tbody>\n",
       "</table>\n",
       "</div>"
      ],
      "text/plain": [
       "   order_amount  total_items  shop_id\n",
       "0           224            2       53\n",
       "1            90            1       92\n",
       "2           144            1       44\n",
       "3           156            1       18\n",
       "4           156            1       18"
      ]
     },
     "execution_count": 11,
     "metadata": {},
     "output_type": "execute_result"
    }
   ],
   "source": [
    "df2 = df[['order_amount','total_items','shop_id']]\n",
    "df2.head()"
   ]
  },
  {
   "cell_type": "code",
   "execution_count": 12,
   "metadata": {},
   "outputs": [
    {
     "data": {
      "application/vnd.jupyter.widget-view+json": {
       "model_id": "7a810945ef4e44a69200a3c02745d011",
       "version_major": 2,
       "version_minor": 0
      },
      "image/png": "[encoded data removed]",
      "text/html": [
       "\n",
       "            <div style=\"display: inline-block;\">\n",
       "                <div class=\"jupyter-widgets widget-label\" style=\"text-align: center;\">\n",
       "                    Figure\n",
       "                </div>\n",
       "                <img src='data:image/png;base64,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' width=900.0/>\n",
       "            </div>\n",
       "        "
      ],
      "text/plain": [
       "Canvas(toolbar=Toolbar(toolitems=[('Home', 'Reset original view', 'home', 'home'), ('Back', 'Back to previous …"
      ]
     },
     "metadata": {},
     "output_type": "display_data"
    },
    {
     "data": {
      "application/vnd.jupyter.widget-view+json": {
       "model_id": "2d4878a3920f4b0796f737c96318ebc3",
       "version_major": 2,
       "version_minor": 0
      },
      "image/png": "[encoded data removed]",
      "text/html": [
       "\n",
       "            <div style=\"display: inline-block;\">\n",
       "                <div class=\"jupyter-widgets widget-label\" style=\"text-align: center;\">\n",
       "                    Figure\n",
       "                </div>\n",
       "                <img src='data:image/png;base64,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' width=900.0/>\n",
       "            </div>\n",
       "        "
      ],
      "text/plain": [
       "Canvas(toolbar=Toolbar(toolitems=[('Home', 'Reset original view', 'home', 'home'), ('Back', 'Back to previous …"
      ]
     },
     "metadata": {},
     "output_type": "display_data"
    },
    {
     "data": {
      "application/vnd.jupyter.widget-view+json": {
       "model_id": "e18a949c74194a4ab1a170bf770b23cf",
       "version_major": 2,
       "version_minor": 0
      },
      "image/png": "[encoded data removed]",
      "text/html": [
       "\n",
       "            <div style=\"display: inline-block;\">\n",
       "                <div class=\"jupyter-widgets widget-label\" style=\"text-align: center;\">\n",
       "                    Figure\n",
       "                </div>\n",
       "                <img src='data:image/png;base64,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' width=900.0/>\n",
       "            </div>\n",
       "        "
      ],
      "text/plain": [
       "Canvas(toolbar=Toolbar(toolitems=[('Home', 'Reset original view', 'home', 'home'), ('Back', 'Back to previous …"
      ]
     },
     "metadata": {},
     "output_type": "display_data"
    }
   ],
   "source": [
    "for col in df2.columns:\n",
    "    fig,ax = plt.subplots(1,2,figsize=(9,7))\n",
    "    df2[col].hist(ax=ax[0],grid=False)\n",
    "    ax[0].set_xlabel(col)\n",
    "    sns.boxplot(x=df2[col],ax=ax[1])"
   ]
  },
  {
   "cell_type": "markdown",
   "metadata": {},
   "source": [
    "#### Observations\n",
    "- We see there are about 6 outliers skewing the order amount but 1 extremely large amout over $600k which should be removed to gain a better true understanding of order amount\n",
    "- We see one order exceeding 2000 items \n",
    "- Normal distribution shown detailing the number of transacactions per store, which makes it ok to remove outliers in data set"
   ]
  },
  {
   "cell_type": "code",
   "execution_count": 13,
   "metadata": {},
   "outputs": [
    {
     "data": {
      "text/html": [
       "<div>\n",
       "<style scoped>\n",
       "    .dataframe tbody tr th:only-of-type {\n",
       "        vertical-align: middle;\n",
       "    }\n",
       "\n",
       "    .dataframe tbody tr th {\n",
       "        vertical-align: top;\n",
       "    }\n",
       "\n",
       "    .dataframe thead th {\n",
       "        text-align: right;\n",
       "    }\n",
       "</style>\n",
       "<table border=\"1\" class=\"dataframe\">\n",
       "  <thead>\n",
       "    <tr style=\"text-align: right;\">\n",
       "      <th></th>\n",
       "      <th>order_id</th>\n",
       "      <th>shop_id</th>\n",
       "      <th>user_id</th>\n",
       "      <th>order_amount</th>\n",
       "      <th>total_items</th>\n",
       "      <th>payment_method</th>\n",
       "      <th>created_at</th>\n",
       "    </tr>\n",
       "  </thead>\n",
       "  <tbody>\n",
       "    <tr>\n",
       "      <th>15</th>\n",
       "      <td>16</td>\n",
       "      <td>42</td>\n",
       "      <td>607</td>\n",
       "      <td>704000</td>\n",
       "      <td>2000</td>\n",
       "      <td>credit_card</td>\n",
       "      <td>2017-03-07 04:00:00.000</td>\n",
       "    </tr>\n",
       "    <tr>\n",
       "      <th>60</th>\n",
       "      <td>61</td>\n",
       "      <td>42</td>\n",
       "      <td>607</td>\n",
       "      <td>704000</td>\n",
       "      <td>2000</td>\n",
       "      <td>credit_card</td>\n",
       "      <td>2017-03-04 04:00:00.000</td>\n",
       "    </tr>\n",
       "    <tr>\n",
       "      <th>160</th>\n",
       "      <td>161</td>\n",
       "      <td>78</td>\n",
       "      <td>990</td>\n",
       "      <td>25725</td>\n",
       "      <td>1</td>\n",
       "      <td>credit_card</td>\n",
       "      <td>2017-03-12 05:56:56.834</td>\n",
       "    </tr>\n",
       "    <tr>\n",
       "      <th>490</th>\n",
       "      <td>491</td>\n",
       "      <td>78</td>\n",
       "      <td>936</td>\n",
       "      <td>51450</td>\n",
       "      <td>2</td>\n",
       "      <td>debit</td>\n",
       "      <td>2017-03-26 17:08:18.911</td>\n",
       "    </tr>\n",
       "    <tr>\n",
       "      <th>493</th>\n",
       "      <td>494</td>\n",
       "      <td>78</td>\n",
       "      <td>983</td>\n",
       "      <td>51450</td>\n",
       "      <td>2</td>\n",
       "      <td>cash</td>\n",
       "      <td>2017-03-16 21:39:35.400</td>\n",
       "    </tr>\n",
       "    <tr>\n",
       "      <th>...</th>\n",
       "      <td>...</td>\n",
       "      <td>...</td>\n",
       "      <td>...</td>\n",
       "      <td>...</td>\n",
       "      <td>...</td>\n",
       "      <td>...</td>\n",
       "      <td>...</td>\n",
       "    </tr>\n",
       "    <tr>\n",
       "      <th>4646</th>\n",
       "      <td>4647</td>\n",
       "      <td>42</td>\n",
       "      <td>607</td>\n",
       "      <td>704000</td>\n",
       "      <td>2000</td>\n",
       "      <td>credit_card</td>\n",
       "      <td>2017-03-02 04:00:00.000</td>\n",
       "    </tr>\n",
       "    <tr>\n",
       "      <th>4715</th>\n",
       "      <td>4716</td>\n",
       "      <td>78</td>\n",
       "      <td>818</td>\n",
       "      <td>77175</td>\n",
       "      <td>3</td>\n",
       "      <td>debit</td>\n",
       "      <td>2017-03-05 05:10:43.633</td>\n",
       "    </tr>\n",
       "    <tr>\n",
       "      <th>4868</th>\n",
       "      <td>4869</td>\n",
       "      <td>42</td>\n",
       "      <td>607</td>\n",
       "      <td>704000</td>\n",
       "      <td>2000</td>\n",
       "      <td>credit_card</td>\n",
       "      <td>2017-03-22 04:00:00.000</td>\n",
       "    </tr>\n",
       "    <tr>\n",
       "      <th>4882</th>\n",
       "      <td>4883</td>\n",
       "      <td>42</td>\n",
       "      <td>607</td>\n",
       "      <td>704000</td>\n",
       "      <td>2000</td>\n",
       "      <td>credit_card</td>\n",
       "      <td>2017-03-25 04:00:00.000</td>\n",
       "    </tr>\n",
       "    <tr>\n",
       "      <th>4918</th>\n",
       "      <td>4919</td>\n",
       "      <td>78</td>\n",
       "      <td>823</td>\n",
       "      <td>25725</td>\n",
       "      <td>1</td>\n",
       "      <td>cash</td>\n",
       "      <td>2017-03-15 13:26:46.262</td>\n",
       "    </tr>\n",
       "  </tbody>\n",
       "</table>\n",
       "<p>71 rows × 7 columns</p>\n",
       "</div>"
      ],
      "text/plain": [
       "      order_id  shop_id  user_id  order_amount  total_items payment_method  \\\n",
       "15          16       42      607        704000         2000    credit_card   \n",
       "60          61       42      607        704000         2000    credit_card   \n",
       "160        161       78      990         25725            1    credit_card   \n",
       "490        491       78      936         51450            2          debit   \n",
       "493        494       78      983         51450            2           cash   \n",
       "...        ...      ...      ...           ...          ...            ...   \n",
       "4646      4647       42      607        704000         2000    credit_card   \n",
       "4715      4716       78      818         77175            3          debit   \n",
       "4868      4869       42      607        704000         2000    credit_card   \n",
       "4882      4883       42      607        704000         2000    credit_card   \n",
       "4918      4919       78      823         25725            1           cash   \n",
       "\n",
       "                  created_at  \n",
       "15   2017-03-07 04:00:00.000  \n",
       "60   2017-03-04 04:00:00.000  \n",
       "160  2017-03-12 05:56:56.834  \n",
       "490  2017-03-26 17:08:18.911  \n",
       "493  2017-03-16 21:39:35.400  \n",
       "...                      ...  \n",
       "4646 2017-03-02 04:00:00.000  \n",
       "4715 2017-03-05 05:10:43.633  \n",
       "4868 2017-03-22 04:00:00.000  \n",
       "4882 2017-03-25 04:00:00.000  \n",
       "4918 2017-03-15 13:26:46.262  \n",
       "\n",
       "[71 rows x 7 columns]"
      ]
     },
     "execution_count": 13,
     "metadata": {},
     "output_type": "execute_result"
    }
   ],
   "source": [
    "#how many orders exceed 75% of our data order amount > 390\n",
    "\n",
    "df[df['order_amount']>1000]"
   ]
  },
  {
   "cell_type": "markdown",
   "metadata": {},
   "source": [
    "Import scipy norm module"
   ]
  },
  {
   "cell_type": "code",
   "execution_count": 14,
   "metadata": {},
   "outputs": [],
   "source": [
    "from scipy.stats import norm"
   ]
  },
  {
   "cell_type": "markdown",
   "metadata": {},
   "source": [
    "### Deal with outliers"
   ]
  },
  {
   "cell_type": "code",
   "execution_count": 15,
   "metadata": {},
   "outputs": [
    {
     "name": "stdout",
     "output_type": "stream",
     "text": [
      "16.675033432503792\n"
     ]
    }
   ],
   "source": [
    "dfskew = df['order_amount'].skew()\n",
    "print(dfskew)"
   ]
  },
  {
   "cell_type": "code",
   "execution_count": 16,
   "metadata": {},
   "outputs": [
    {
     "data": {
      "text/plain": [
       "total_items     17.065556\n",
       "order_amount    16.675033\n",
       "shop_id          0.013830\n",
       "order_id         0.000000\n",
       "user_id         -0.034052\n",
       "dtype: float64"
      ]
     },
     "execution_count": 16,
     "metadata": {},
     "output_type": "execute_result"
    }
   ],
   "source": [
    "#determine skew\n",
    "df.skew().sort_values(ascending=False)"
   ]
  },
  {
   "cell_type": "code",
   "execution_count": 17,
   "metadata": {},
   "outputs": [
    {
     "data": {
      "text/html": [
       "<div>\n",
       "<style scoped>\n",
       "    .dataframe tbody tr th:only-of-type {\n",
       "        vertical-align: middle;\n",
       "    }\n",
       "\n",
       "    .dataframe tbody tr th {\n",
       "        vertical-align: top;\n",
       "    }\n",
       "\n",
       "    .dataframe thead th {\n",
       "        text-align: right;\n",
       "    }\n",
       "</style>\n",
       "<table border=\"1\" class=\"dataframe\">\n",
       "  <thead>\n",
       "    <tr style=\"text-align: right;\">\n",
       "      <th></th>\n",
       "      <th>order_id</th>\n",
       "      <th>shop_id</th>\n",
       "      <th>user_id</th>\n",
       "      <th>order_amount</th>\n",
       "      <th>total_items</th>\n",
       "      <th>payment_method</th>\n",
       "      <th>created_at</th>\n",
       "      <th>order_transform</th>\n",
       "    </tr>\n",
       "  </thead>\n",
       "  <tbody>\n",
       "    <tr>\n",
       "      <th>0</th>\n",
       "      <td>1</td>\n",
       "      <td>53</td>\n",
       "      <td>746</td>\n",
       "      <td>224</td>\n",
       "      <td>2</td>\n",
       "      <td>cash</td>\n",
       "      <td>2017-03-13 12:36:56.190</td>\n",
       "      <td>5.411646</td>\n",
       "    </tr>\n",
       "    <tr>\n",
       "      <th>1</th>\n",
       "      <td>2</td>\n",
       "      <td>92</td>\n",
       "      <td>925</td>\n",
       "      <td>90</td>\n",
       "      <td>1</td>\n",
       "      <td>cash</td>\n",
       "      <td>2017-03-03 17:38:51.999</td>\n",
       "      <td>4.499810</td>\n",
       "    </tr>\n",
       "    <tr>\n",
       "      <th>2</th>\n",
       "      <td>3</td>\n",
       "      <td>44</td>\n",
       "      <td>861</td>\n",
       "      <td>144</td>\n",
       "      <td>1</td>\n",
       "      <td>cash</td>\n",
       "      <td>2017-03-14 04:23:55.595</td>\n",
       "      <td>4.969813</td>\n",
       "    </tr>\n",
       "    <tr>\n",
       "      <th>3</th>\n",
       "      <td>4</td>\n",
       "      <td>18</td>\n",
       "      <td>935</td>\n",
       "      <td>156</td>\n",
       "      <td>1</td>\n",
       "      <td>credit_card</td>\n",
       "      <td>2017-03-26 12:43:36.649</td>\n",
       "      <td>5.049856</td>\n",
       "    </tr>\n",
       "    <tr>\n",
       "      <th>4</th>\n",
       "      <td>5</td>\n",
       "      <td>18</td>\n",
       "      <td>883</td>\n",
       "      <td>156</td>\n",
       "      <td>1</td>\n",
       "      <td>credit_card</td>\n",
       "      <td>2017-03-01 04:35:10.773</td>\n",
       "      <td>5.049856</td>\n",
       "    </tr>\n",
       "  </tbody>\n",
       "</table>\n",
       "</div>"
      ],
      "text/plain": [
       "   order_id  shop_id  user_id  order_amount  total_items payment_method  \\\n",
       "0         1       53      746           224            2           cash   \n",
       "1         2       92      925            90            1           cash   \n",
       "2         3       44      861           144            1           cash   \n",
       "3         4       18      935           156            1    credit_card   \n",
       "4         5       18      883           156            1    credit_card   \n",
       "\n",
       "               created_at  order_transform  \n",
       "0 2017-03-13 12:36:56.190         5.411646  \n",
       "1 2017-03-03 17:38:51.999         4.499810  \n",
       "2 2017-03-14 04:23:55.595         4.969813  \n",
       "3 2017-03-26 12:43:36.649         5.049856  \n",
       "4 2017-03-01 04:35:10.773         5.049856  "
      ]
     },
     "execution_count": 17,
     "metadata": {},
     "output_type": "execute_result"
    }
   ],
   "source": [
    "# Log transform a single column \n",
    "df['order_transform'] = np.log(df['order_amount'])\n",
    "df.head() "
   ]
  },
  {
   "cell_type": "code",
   "execution_count": 18,
   "metadata": {},
   "outputs": [
    {
     "data": {
      "text/html": [
       "<div>\n",
       "<style scoped>\n",
       "    .dataframe tbody tr th:only-of-type {\n",
       "        vertical-align: middle;\n",
       "    }\n",
       "\n",
       "    .dataframe tbody tr th {\n",
       "        vertical-align: top;\n",
       "    }\n",
       "\n",
       "    .dataframe thead th {\n",
       "        text-align: right;\n",
       "    }\n",
       "</style>\n",
       "<table border=\"1\" class=\"dataframe\">\n",
       "  <thead>\n",
       "    <tr style=\"text-align: right;\">\n",
       "      <th></th>\n",
       "      <th>count</th>\n",
       "      <th>mean</th>\n",
       "      <th>std</th>\n",
       "      <th>min</th>\n",
       "      <th>25%</th>\n",
       "      <th>50%</th>\n",
       "      <th>75%</th>\n",
       "      <th>max</th>\n",
       "    </tr>\n",
       "  </thead>\n",
       "  <tbody>\n",
       "    <tr>\n",
       "      <th>order_id</th>\n",
       "      <td>5000.0</td>\n",
       "      <td>2500.500000</td>\n",
       "      <td>1443.520003</td>\n",
       "      <td>1.00000</td>\n",
       "      <td>1250.75000</td>\n",
       "      <td>2500.500000</td>\n",
       "      <td>3750.250000</td>\n",
       "      <td>5000.000000</td>\n",
       "    </tr>\n",
       "    <tr>\n",
       "      <th>shop_id</th>\n",
       "      <td>5000.0</td>\n",
       "      <td>50.078800</td>\n",
       "      <td>29.006118</td>\n",
       "      <td>1.00000</td>\n",
       "      <td>24.00000</td>\n",
       "      <td>50.000000</td>\n",
       "      <td>75.000000</td>\n",
       "      <td>100.000000</td>\n",
       "    </tr>\n",
       "    <tr>\n",
       "      <th>user_id</th>\n",
       "      <td>5000.0</td>\n",
       "      <td>849.092400</td>\n",
       "      <td>87.798982</td>\n",
       "      <td>607.00000</td>\n",
       "      <td>775.00000</td>\n",
       "      <td>849.000000</td>\n",
       "      <td>925.000000</td>\n",
       "      <td>999.000000</td>\n",
       "    </tr>\n",
       "    <tr>\n",
       "      <th>order_amount</th>\n",
       "      <td>5000.0</td>\n",
       "      <td>3145.128000</td>\n",
       "      <td>41282.539349</td>\n",
       "      <td>90.00000</td>\n",
       "      <td>163.00000</td>\n",
       "      <td>284.000000</td>\n",
       "      <td>390.000000</td>\n",
       "      <td>704000.000000</td>\n",
       "    </tr>\n",
       "    <tr>\n",
       "      <th>total_items</th>\n",
       "      <td>5000.0</td>\n",
       "      <td>8.787200</td>\n",
       "      <td>116.320320</td>\n",
       "      <td>1.00000</td>\n",
       "      <td>1.00000</td>\n",
       "      <td>2.000000</td>\n",
       "      <td>3.000000</td>\n",
       "      <td>2000.000000</td>\n",
       "    </tr>\n",
       "    <tr>\n",
       "      <th>order_transform</th>\n",
       "      <td>5000.0</td>\n",
       "      <td>5.652561</td>\n",
       "      <td>0.844728</td>\n",
       "      <td>4.49981</td>\n",
       "      <td>5.09375</td>\n",
       "      <td>5.648974</td>\n",
       "      <td>5.966147</td>\n",
       "      <td>13.464534</td>\n",
       "    </tr>\n",
       "  </tbody>\n",
       "</table>\n",
       "</div>"
      ],
      "text/plain": [
       "                  count         mean           std        min         25%  \\\n",
       "order_id         5000.0  2500.500000   1443.520003    1.00000  1250.75000   \n",
       "shop_id          5000.0    50.078800     29.006118    1.00000    24.00000   \n",
       "user_id          5000.0   849.092400     87.798982  607.00000   775.00000   \n",
       "order_amount     5000.0  3145.128000  41282.539349   90.00000   163.00000   \n",
       "total_items      5000.0     8.787200    116.320320    1.00000     1.00000   \n",
       "order_transform  5000.0     5.652561      0.844728    4.49981     5.09375   \n",
       "\n",
       "                         50%          75%            max  \n",
       "order_id         2500.500000  3750.250000    5000.000000  \n",
       "shop_id            50.000000    75.000000     100.000000  \n",
       "user_id           849.000000   925.000000     999.000000  \n",
       "order_amount      284.000000   390.000000  704000.000000  \n",
       "total_items         2.000000     3.000000    2000.000000  \n",
       "order_transform     5.648974     5.966147      13.464534  "
      ]
     },
     "execution_count": 18,
     "metadata": {},
     "output_type": "execute_result"
    }
   ],
   "source": [
    "df.describe().T"
   ]
  },
  {
   "cell_type": "markdown",
   "metadata": {},
   "source": [
    "Plot log scaled values"
   ]
  },
  {
   "cell_type": "code",
   "execution_count": 19,
   "metadata": {},
   "outputs": [
    {
     "data": {
      "application/vnd.jupyter.widget-view+json": {
       "model_id": "02ba29c4c1914de69723e30331dd0886",
       "version_major": 2,
       "version_minor": 0
      },
      "image/png": "[encoded data removed]",
      "text/html": [
       "\n",
       "            <div style=\"display: inline-block;\">\n",
       "                <div class=\"jupyter-widgets widget-label\" style=\"text-align: center;\">\n",
       "                    Figure\n",
       "                </div>\n",
       "                <img src='data:image/png;base64,iVBORw0KGgoAAAANSUhEUgAAAfQAAAGQCAYAAABYs5LGAAAAOXRFWHRTb2Z0d2FyZQBNYXRwbG90bGliIHZlcnNpb24zLjMuNCwgaHR0cHM6Ly9tYXRwbG90bGliLm9yZy8QVMy6AAAACXBIWXMAAA9hAAAPYQGoP6dpAAAkd0lEQVR4nO3df3BU9b3/8deaH9skk6wkmF13mpQ4k1EkuciEFgneggMELSHX6Y9gYyP3lqt0UOhKEJJrvUVnTASvgVszUnGcxgtSnDttqFaKhNaJUkRCaFpBKnUaaZCs8d5ZdxNINzE53z8cz/euCT+EZXfz4fmY2ZnuOe/dfM469Mlh92QdlmVZAgAA49pV8V4AAAC4dAQdAAADEHQAAAxA0AEAMABBBwDAAAQdAAADEHQAAAxA0AEAMABBBwDAAAQdAAADEHQAAAxA0AEAMABBBwDAAAQdAAADEHQAAAxA0AEAMABBBwDAAAQdAAADEHQAAAxA0AEAMABBBwDAAAQdAAADEHQAAAxA0AEAMABBBwDAAAQdAAADEHQAAAxA0AEAMABBBwDAAAQdAAADEHQAAAxA0AEAMABBBwDAAAQdAAADEHQAAAxA0AEAMABBBwDAAAQdAAADEHQAAAxA0AEAMABBBwDAAAQdAAADEHQAAAxA0AEAMABBBwDAAAQdAAADJMd7AfFgWZZCoZD6+vqUmZkph8MR7yUBAOLAsiz19fXJ6/XqqqvG9znuFRn0vr4+XX311fFeBgAgQXR3d+vLX/5yvJdxSa7IoGdmZqq7u1t5eXnq7u5WVlZWvJcEAIiDUCikvLw8ZWZmxnspl+yKDLrD4bAjnpWVRdAB4Apnwluv4/sNAwAAIImgAwBgBIIOAIABCDoAAAYg6AAAGICgAwBgAIIOAIABCDoAAAYg6AAAGICgAwBgAIIOAIABCDoAAAa4Ir+cxVSTal+JyvO8//jCqDwPACB2OEMHAMAABB0AAAMQdAAADBDVoL/++utatGiRvF6vHA6Hdu7cedbZZcuWyeFwaNOmTRHbw+GwVqxYoYkTJyojI0MVFRU6efJkxEwgEFB1dbVcLpdcLpeqq6v18ccfR/NQAAAYV6Ia9NOnT2vq1Klqamo659zOnTv11ltvyev1jtrn8/nU0tKiHTt2aN++ferv71d5ebmGh4ftmaqqKnV2dmr37t3avXu3Ojs7VV1dHc1DAQBgXInqp9xvv/123X777eec+eCDD3T//ffr1Vdf1cKFkZ+mDgaDeu6557R161bNmzdPkrRt2zbl5eVp7969WrBggY4dO6bdu3frwIEDmjFjhiTp2Wef1cyZM/Xuu+/q+uuvj+YhAQAwLsT0PfSRkRFVV1frwQcf1JQpU0bt7+jo0NDQkMrKyuxtXq9XRUVF2r9/vyTpzTfflMvlsmMuSTfffLNcLpc9M5ZwOKxQKBRxAwDAFDEN+vr165WcnKyVK1eOud/v9ys1NVUTJkyI2O52u+X3++2Z3NzcUY/Nzc21Z8bS0NBgv+fucrmUl5d3CUcCAEBiiVnQOzo69J//+Z9qbm6Ww+H4Qo+1LCviMWM9/vMzn1dXV6dgMGjfuru7v9AaAABIZDEL+htvvKHe3l7l5+crOTlZycnJOnHihGpqajRp0iRJksfj0eDgoAKBQMRje3t75Xa77ZkPP/xw1PN/9NFH9sxYnE6nsrKyIm4AAJgiZkGvrq7Wn/70J3V2dto3r9erBx98UK+++qokqaSkRCkpKWptbbUf19PToyNHjqi0tFSSNHPmTAWDQR08eNCeeeuttxQMBu0ZAACuNFH9lHt/f7/ee+89+35XV5c6OzuVnZ2t/Px85eTkRMynpKTI4/HYn0x3uVxaunSpampqlJOTo+zsbK1evVrFxcX2p94nT56s2267Tffcc4+eeeYZSdK9996r8vJyPuEOALhiRTXohw4d0q233mrfX7VqlSRpyZIlam5uvqDn2Lhxo5KTk1VZWamBgQHNnTtXzc3NSkpKsmdeeOEFrVy50v40fEVFxXmvfQcAwGQOy7KseC8iHkKhkFwul4LBoDHvp/NtawDwxZjUAn6XOwAABiDoAAAYgKADAGAAgg4AgAEIOgAABiDoAAAYgKADAGAAgg4AgAEIOgAABiDoAAAYgKADAGAAgg4AgAEIOgAABiDoAAAYgKADAGAAgg4AgAEIOgAABiDoAAAYgKADAGAAgg4AgAEIOgAABkiO9wKQeCbVvhKV53n/8YVReR4AwPlxhg4AgAEIOgAABiDoAAAYgKADAGAAgg4AgAEIOgAABiDoAAAYIKpBf/3117Vo0SJ5vV45HA7t3LnT3jc0NKS1a9equLhYGRkZ8nq9uvvuu3Xq1KmI5wiHw1qxYoUmTpyojIwMVVRU6OTJkxEzgUBA1dXVcrlccrlcqq6u1scffxzNQwEAYFyJ6i+WOX36tKZOnap/+Zd/0be+9a2IfWfOnNHhw4f18MMPa+rUqQoEAvL5fKqoqNChQ4fsOZ/Pp5dfflk7duxQTk6OampqVF5ero6ODiUlJUmSqqqqdPLkSe3evVuSdO+996q6ulovv/xyNA8npqL1y1wAAFcmh2VZ1mV5YodDLS0tuuOOO846097erq997Ws6ceKE8vPzFQwGdc0112jr1q1avHixJOnUqVPKy8vTrl27tGDBAh07dkw33nijDhw4oBkzZkiSDhw4oJkzZ+rPf/6zrr/++gtaXygUksvlUjAYVFZW1iUf76UyMej8pjgAiS7RWnAp4voeejAYlMPh0NVXXy1J6ujo0NDQkMrKyuwZr9eroqIi7d+/X5L05ptvyuVy2TGXpJtvvlkul8ueAQDgShO33+X+97//XbW1taqqqrL/VuT3+5WamqoJEyZEzLrdbvn9fnsmNzd31PPl5ubaM2MJh8MKh8P2/VAoFI3DAAAgIcTlDH1oaEh33nmnRkZG9PTTT5933rIsORwO+/7//d9nm/m8hoYG+0N0LpdLeXl5F7d4AAASUMyDPjQ0pMrKSnV1dam1tTXiPQuPx6PBwUEFAoGIx/T29srtdtszH3744ajn/eijj+yZsdTV1SkYDNq37u7uKB0RAADxF9Ogfxbzv/zlL9q7d69ycnIi9peUlCglJUWtra32tp6eHh05ckSlpaWSpJkzZyoYDOrgwYP2zFtvvaVgMGjPjMXpdCorKyviBgCAKaL6Hnp/f7/ee+89+35XV5c6OzuVnZ0tr9erb3/72zp8+LB+/etfa3h42H7POzs7W6mpqXK5XFq6dKlqamqUk5Oj7OxsrV69WsXFxZo3b54kafLkybrtttt0zz336JlnnpH06WVr5eXlF/wJdwAATBPVoB86dEi33nqrfX/VqlWSpCVLlmjdunV66aWXJEk33XRTxONee+01zZkzR5K0ceNGJScnq7KyUgMDA5o7d66am5vta9Al6YUXXtDKlSvtT8NXVFSoqakpmocCAMC4ctmuQ090iXbtIdehA0DsJVoLLgW/yx0AAAMQdAAADEDQAQAwAEEHAMAABB0AAAMQdAAADEDQAQAwAEEHAMAABB0AAAMQdAAADEDQAQAwAEEHAMAABB0AAAMQdAAADEDQAQAwAEEHAMAABB0AAAMQdAAADEDQAQAwAEEHAMAABB0AAAMQdAAADEDQAQAwAEEHAMAABB0AAAMQdAAADEDQAQAwAEEHAMAABB0AAAMQdAAADBDVoL/++utatGiRvF6vHA6Hdu7cGbHfsiytW7dOXq9XaWlpmjNnjo4ePRoxEw6HtWLFCk2cOFEZGRmqqKjQyZMnI2YCgYCqq6vlcrnkcrlUXV2tjz/+OJqHAgDAuBLVoJ8+fVpTp05VU1PTmPs3bNigxsZGNTU1qb29XR6PR/Pnz1dfX5894/P51NLSoh07dmjfvn3q7+9XeXm5hoeH7Zmqqip1dnZq9+7d2r17tzo7O1VdXR3NQwEAYFxxWJZlXZYndjjU0tKiO+64Q9KnZ+der1c+n09r166V9OnZuNvt1vr167Vs2TIFg0Fdc8012rp1qxYvXixJOnXqlPLy8rRr1y4tWLBAx44d04033qgDBw5oxowZkqQDBw5o5syZ+vOf/6zrr7/+gtYXCoXkcrkUDAaVlZUV/RfgC5pU+0q8lxB17z++MN5LAIBzSrQWXIqYvYfe1dUlv9+vsrIye5vT6dTs2bO1f/9+SVJHR4eGhoYiZrxer4qKiuyZN998Uy6Xy465JN18881yuVz2zFjC4bBCoVDEDQAAU8Qs6H6/X5Lkdrsjtrvdbnuf3+9XamqqJkyYcM6Z3NzcUc+fm5trz4yloaHBfs/d5XIpLy/vko4HAIBEEvNPuTscjoj7lmWN2vZ5n58Za/58z1NXV6dgMGjfuru7v+DKAQBIXDELusfjkaRRZ9G9vb32WbvH49Hg4KACgcA5Zz788MNRz//RRx+NOvv/v5xOp7KysiJuAACYImZBLygokMfjUWtrq71tcHBQbW1tKi0tlSSVlJQoJSUlYqanp0dHjhyxZ2bOnKlgMKiDBw/aM2+99ZaCwaA9AwDAlSY5mk/W39+v9957z77f1dWlzs5OZWdnKz8/Xz6fT/X19SosLFRhYaHq6+uVnp6uqqoqSZLL5dLSpUtVU1OjnJwcZWdna/Xq1SouLta8efMkSZMnT9Ztt92me+65R88884wk6d5771V5efkFf8IdAADTRDXohw4d0q233mrfX7VqlSRpyZIlam5u1po1azQwMKDly5crEAhoxowZ2rNnjzIzM+3HbNy4UcnJyaqsrNTAwIDmzp2r5uZmJSUl2TMvvPCCVq5caX8avqKi4qzXvgMAcCW4bNehJ7pEu/aQ69ABIPYSrQWXgt/lDgCAAQg6AAAGIOgAABiAoAMAYACCDgCAAQg6AAAGIOgAABiAoAMAYACCDgCAAQg6AAAGIOgAABiAoAMAYACCDgCAAQg6AAAGIOgAABiAoAMAYACCDgCAAQg6AAAGIOgAABiAoAMAYACCDgCAAQg6AAAGIOgAABiAoAMAYACCDgCAAQg6AAAGIOgAABiAoAMAYACCDgCAAQg6AAAGiGnQP/nkE/3oRz9SQUGB0tLSdN111+nRRx/VyMiIPWNZltatWyev16u0tDTNmTNHR48ejXiecDisFStWaOLEicrIyFBFRYVOnjwZy0MBACChxDTo69ev109/+lM1NTXp2LFj2rBhg5544gk99dRT9syGDRvU2NiopqYmtbe3y+PxaP78+err67NnfD6fWlpatGPHDu3bt0/9/f0qLy/X8PBwLA8HAICEkRzLH/bmm2/qn/7pn7Rw4UJJ0qRJk/Tzn/9chw4dkvTp2fmmTZv00EMP6Zvf/KYk6fnnn5fb7db27du1bNkyBYNBPffcc9q6davmzZsnSdq2bZvy8vK0d+9eLViwIJaHBABAQojpGfott9yi3/72tzp+/Lgk6Y9//KP27dunb3zjG5Kkrq4u+f1+lZWV2Y9xOp2aPXu29u/fL0nq6OjQ0NBQxIzX61VRUZE9M5ZwOKxQKBRxAwDAFDE9Q1+7dq2CwaBuuOEGJSUlaXh4WI899pi++93vSpL8fr8kye12RzzO7XbrxIkT9kxqaqomTJgwauazx4+loaFBjzzySDQPBwCAhBHTM/QXX3xR27Zt0/bt23X48GE9//zz+o//+A89//zzEXMOhyPivmVZo7Z93vlm6urqFAwG7Vt3d/fFHwgAAAkmpmfoDz74oGpra3XnnXdKkoqLi3XixAk1NDRoyZIl8ng8kj49C7/22mvtx/X29tpn7R6PR4ODgwoEAhFn6b29vSotLT3rz3Y6nXI6nZfjsAAAiLuYnqGfOXNGV10V+SOTkpLsy9YKCgrk8XjU2tpq7x8cHFRbW5sd65KSEqWkpETM9PT06MiRI+cMOgAAJovpGfqiRYv02GOPKT8/X1OmTNEf/vAHNTY26vvf/76kT/+p3efzqb6+XoWFhSosLFR9fb3S09NVVVUlSXK5XFq6dKlqamqUk5Oj7OxsrV69WsXFxfan3gEAuNLENOhPPfWUHn74YS1fvly9vb3yer1atmyZ/v3f/92eWbNmjQYGBrR8+XIFAgHNmDFDe/bsUWZmpj2zceNGJScnq7KyUgMDA5o7d66am5uVlJQUy8MBACBhOCzLsuK9iHgIhUJyuVwKBoPKysqK93I0qfaVeC8h6t5/fGG8lwAA55RoLbgU/C53AAAMQNABADAAQQcAwAAEHQAAAxB0AAAMQNABADAAQQcAwAAEHQAAAxB0AAAMQNABADAAQQcAwAAEHQAAAxB0AAAMQNABADAAQQcAwAAEHQAAAxB0AAAMQNABADAAQQcAwAAEHQAAAxB0AAAMQNABADAAQQcAwAAEHQAAAxB0AAAMQNABADAAQQcAwADJ8V7AeDep9pV4LwEAAM7QAQAwQcyD/sEHH+h73/uecnJylJ6erptuukkdHR32fsuytG7dOnm9XqWlpWnOnDk6evRoxHOEw2GtWLFCEydOVEZGhioqKnTy5MlYHwoAAAkjpkEPBAKaNWuWUlJS9Jvf/EbvvPOOnnzySV199dX2zIYNG9TY2Kimpia1t7fL4/Fo/vz56uvrs2d8Pp9aWlq0Y8cO7du3T/39/SovL9fw8HAsDwcAgIThsCzLitUPq62t1e9//3u98cYbY+63LEter1c+n09r166V9OnZuNvt1vr167Vs2TIFg0Fdc8012rp1qxYvXixJOnXqlPLy8rRr1y4tWLDggtYSCoXkcrkUDAaVlZV10cfEe+hn9/7jC+O9BAA4p2i1IBHE9Az9pZde0vTp0/Wd73xHubm5mjZtmp599ll7f1dXl/x+v8rKyuxtTqdTs2fP1v79+yVJHR0dGhoaipjxer0qKiqyZwAAuNLENOh//etftXnzZhUWFurVV1/VD37wA61cuVL/9V//JUny+/2SJLfbHfE4t9tt7/P7/UpNTdWECRPOOjOWcDisUCgUcQMAwBQxvWxtZGRE06dPV319vSRp2rRpOnr0qDZv3qy7777bnnM4HBGPsyxr1LbPO99MQ0ODHnnkkUtYPQAAiSumZ+jXXnutbrzxxohtkydP1t/+9jdJksfjkaRRZ9q9vb32WbvH49Hg4KACgcBZZ8ZSV1enYDBo37q7uy/5eAAASBQxDfqsWbP07rvvRmw7fvy4vvKVr0iSCgoK5PF41Nraau8fHBxUW1ubSktLJUklJSVKSUmJmOnp6dGRI0fsmbE4nU5lZWVF3AAAMEVM/8n9gQceUGlpqerr61VZWamDBw9qy5Yt2rJli6RP/6nd5/Opvr5ehYWFKiwsVH19vdLT01VVVSVJcrlcWrp0qWpqapSTk6Ps7GytXr1axcXFmjdvXiwPBwCAhBHToH/1q19VS0uL6urq9Oijj6qgoECbNm3SXXfdZc+sWbNGAwMDWr58uQKBgGbMmKE9e/YoMzPTntm4caOSk5NVWVmpgYEBzZ07V83NzUpKSorl4QAAkDBieh16IuE69MuP69ABJDquQwcAAAmFoAMAYACCDgCAAQg6AAAGIOgAABiAoAMAYACCDgCAAQg6AAAGIOgAABiAoAMAYACCDgCAAQg6AAAGIOgAABiAoAMAYACCDgCAAQg6AAAGIOgAABiAoAMAYACCDgCAAQg6AAAGIOgAABiAoAMAYACCDgCAAQg6AAAGIOgAABiAoAMAYACCDgCAAQg6AAAGIOgAABiAoAMAYIC4Br2hoUEOh0M+n8/eZlmW1q1bJ6/Xq7S0NM2ZM0dHjx6NeFw4HNaKFSs0ceJEZWRkqKKiQidPnozx6gEASBxxC3p7e7u2bNmif/iHf4jYvmHDBjU2NqqpqUnt7e3yeDyaP3+++vr67Bmfz6eWlhbt2LFD+/btU39/v8rLyzU8PBzrwwAAICHEJej9/f2666679Oyzz2rChAn2dsuytGnTJj300EP65je/qaKiIj3//PM6c+aMtm/fLkkKBoN67rnn9OSTT2revHmaNm2atm3bprffflt79+6Nx+EAABB3cQn6fffdp4ULF2revHkR27u6uuT3+1VWVmZvczqdmj17tvbv3y9J6ujo0NDQUMSM1+tVUVGRPQMAwJUmOdY/cMeOHero6NChQ4dG7fP7/ZIkt9sdsd3tduvEiRP2TGpqasSZ/Wcznz1+LOFwWOFw2L4fCoUu+hgAAEg0MT1D7+7u1g9/+EO98MIL+tKXvnTWOYfDEXHfsqxR2z7vfDMNDQ1yuVz2LS8v74stHgCABBbToHd0dKi3t1clJSVKTk5WcnKy2tra9JOf/ETJycn2mfnnz7R7e3vtfR6PR4ODgwoEAmedGUtdXZ2CwaB96+7ujvLRAQAQPzEN+ty5c/X222+rs7PTvk2fPl133XWXOjs7dd1118nj8ai1tdV+zODgoNra2lRaWipJKikpUUpKSsRMT0+Pjhw5Ys+Mxel0KisrK+IGAIApYvoeemZmpoqKiiK2ZWRkKCcnx97u8/lUX1+vwsJCFRYWqr6+Xunp6aqqqpIkuVwuLV26VDU1NcrJyVF2drZWr16t4uLiUR+yAwDgShHzD8Wdz5o1azQwMKDly5crEAhoxowZ2rNnjzIzM+2ZjRs3Kjk5WZWVlRoYGNDcuXPV3NyspKSkOK4cAID4cViWZcV7EfEQCoXkcrkUDAYv6Z/fJ9W+EsVVmeX9xxfGewkAcE7RakEi4He5AwBgAIIOAIABEu49dJgjGm9H8M/2AHBhOEMHAMAABB0AAAMQdAAADEDQAQAwAEEHAMAABB0AAAMQdAAADEDQAQAwAEEHAMAABB0AAAMQdAAADEDQAQAwAEEHAMAABB0AAAMQdAAADEDQAQAwAEEHAMAABB0AAAMQdAAADEDQAQAwAEEHAMAABB0AAAMQdAAADEDQAQAwAEEHAMAABB0AAAMQdAAADBDToDc0NOirX/2qMjMzlZubqzvuuEPvvvtuxIxlWVq3bp28Xq/S0tI0Z84cHT16NGImHA5rxYoVmjhxojIyMlRRUaGTJ0/G8lAAAEgoMQ16W1ub7rvvPh04cECtra365JNPVFZWptOnT9szGzZsUGNjo5qamtTe3i6Px6P58+err6/PnvH5fGppadGOHTu0b98+9ff3q7y8XMPDw7E8HAAAEobDsiwrXj/8o48+Um5urtra2vT1r39dlmXJ6/XK5/Np7dq1kj49G3e73Vq/fr2WLVumYDCoa665Rlu3btXixYslSadOnVJeXp527dqlBQsWXNDPDoVCcrlcCgaDysrKuuhjmFT7ykU/Fuf3/uML470EAAaLVgsSQVzfQw8Gg5Kk7OxsSVJXV5f8fr/KysrsGafTqdmzZ2v//v2SpI6ODg0NDUXMeL1eFRUV2TNjCYfDCoVCETcAAEwRt6BblqVVq1bplltuUVFRkSTJ7/dLktxud8Ss2+229/n9fqWmpmrChAlnnRlLQ0ODXC6XfcvLy4vm4QAAEFdxC/r999+vP/3pT/r5z38+ap/D4Yi4b1nWqG2fd76Zuro6BYNB+9bd3X1xCwcAIAHFJegrVqzQSy+9pNdee01f/vKX7e0ej0eSRp1p9/b22mftHo9Hg4ODCgQCZ50Zi9PpVFZWVsQNAABTxDTolmXp/vvv1y9/+Uv97ne/U0FBQcT+goICeTwetba22tsGBwfV1tam0tJSSVJJSYlSUlIiZnp6enTkyBF7BgCAK01yLH/Yfffdp+3bt+tXv/qVMjMz7TNxl8ultLQ0ORwO+Xw+1dfXq7CwUIWFhaqvr1d6erqqqqrs2aVLl6qmpkY5OTnKzs7W6tWrVVxcrHnz5sXycAAASBgxDfrmzZslSXPmzInY/rOf/Uz//M//LElas2aNBgYGtHz5cgUCAc2YMUN79uxRZmamPb9x40YlJyersrJSAwMDmjt3rpqbm5WUlBSrQwEAIKHE9Tr0eOI69PGB69ABXE5chw4AABIKQQcAwAAEHQAAAxB0AAAMQNABADAAQQcAwAAEHQAAAxB0AAAMQNABADAAQQcAwAAEHQAAAxB0AAAMQNABADAAQQcAwAAEHQAAAxB0AAAMQNABADAAQQcAwAAEHQAAAxB0AAAMQNABADAAQQcAwAAEHQAAAxB0AAAMQNABADAAQQcAwAAEHQAAAxB0AAAMQNABADAAQQcAwADJ8V7ApXj66af1xBNPqKenR1OmTNGmTZv0j//4j/FeFqJoUu0rUXme9x9fGJXnweXDf2vg0ozboL/44ovy+Xx6+umnNWvWLD3zzDO6/fbb9c477yg/Pz/eywMwzkXjLxj85eLseH2jb9wGvbGxUUuXLtW//uu/SpI2bdqkV199VZs3b1ZDQ0OcVwcA/KsDYmtcBn1wcFAdHR2qra2N2F5WVqb9+/eP+ZhwOKxwOCxJsixLp06dkiSFQqFLWstI+MwlPR6xkf/Af1/ycxx5ZEEUVoKzidafpUv9M/2ZRPqzHa1jSiTReH2j8bp89hyWZV3yc8XbuAz6//zP/2h4eFhutztiu9vtlt/vH/MxDQ0NeuSRR0Ztz8vLuyxrhHlcm+K9AlwIE/87mXhM0RDN16Wvr08ulyt6TxgH4zLon3E4HBH3Lcsate0zdXV1WrVqlT0XCoU0NDSknJycsz4G/18oFFJeXp66u7uVlZUV7+WMK7x2F4fX7eLx2l04y7LU19cnr9cb76VcsnEZ9IkTJyopKWnU2Xhvb++os/bPOJ1OOZ1O+/54/5tYvGRlZfF/EBeJ1+7i8LpdPF67C2NKD8bldeipqakqKSlRa2trxPbW1laVlpbGaVUAAMTPuDxDl6RVq1apurpa06dP18yZM7Vlyxb97W9/0w9+8IN4Lw0AgJgbt0FfvHix/vd//1ePPvqoenp6VFRUpF27dukrX/lKvJdmJKfTqR//+McRb1vgwvDaXRxet4vHa3dlclgmfFYfAIAr3Lh8Dx0AAEQi6AAAGICgAwBgAIIOAIABCDrO64MPPtD3vvc95eTkKD09XTfddJM6OjrivayE9sknn+hHP/qRCgoKlJaWpuuuu06PPvqoRkZG4r20hPP6669r0aJF8nq9cjgc2rlzZ8R+y7K0bt06eb1epaWlac6cOTp69Gh8FptgzvXaDQ0Nae3atSouLlZGRoa8Xq/uvvtu+3ssYB6CjnMKBAKaNWuWUlJS9Jvf/EbvvPOOnnzySV199dXxXlpCW79+vX7605+qqalJx44d04YNG/TEE0/oqaeeivfSEs7p06c1depUNTU1jbl/w4YNamxsVFNTk9rb2+XxeDR//nz19fXFeKWJ51yv3ZkzZ3T48GE9/PDDOnz4sH75y1/q+PHjqqioiMNKEQtctoZzqq2t1e9//3u98cYb8V7KuFJeXi63263nnnvO3vatb31L6enp2rp1axxXltgcDodaWlp0xx13SPr07Nzr9crn82nt2rWSPv3mRLfbrfXr12vZsmVxXG1i+fxrN5b29nZ97Wtf04kTJ5Sfnx+7xSEmOEPHOb300kuaPn26vvOd7yg3N1fTpk3Ts88+G+9lJbxbbrlFv/3tb3X8+HFJ0h//+Eft27dP3/jGN+K8svGlq6tLfr9fZWVl9jan06nZs2ef9auScXbBYFAOh4N/YTPUuP1NcYiNv/71r9q8ebNWrVqlf/u3f9PBgwe1cuVKOZ1O3X333fFeXsJau3atgsGgbrjhBiUlJWl4eFiPPfaYvvvd78Z7aePKZ1/ANNZXJZ84cSIeSxq3/v73v6u2tlZVVVV8YYuhCDrOaWRkRNOnT1d9fb0kadq0aTp69Kg2b95M0M/hxRdf1LZt27R9+3ZNmTJFnZ2d8vl88nq9WrJkSbyXN+58ka9KxmhDQ0O68847NTIyoqeffjrey8FlQtBxTtdee61uvPHGiG2TJ0/WL37xizitaHx48MEHVVtbqzvvvFOSVFxcrBMnTqihoYGgfwEej0fSp2fq1157rb39XF+VjEhDQ0OqrKxUV1eXfve733F2bjDeQ8c5zZo1S++++27EtuPHj/MlOOdx5swZXXVV5B+vpKQkLlv7ggoKCuTxeCK+KnlwcFBtbW18VfIF+Czmf/nLX7R3717l5OTEe0m4jDhDxzk98MADKi0tVX19vSorK3Xw4EFt2bJFW7ZsiffSEtqiRYv02GOPKT8/X1OmTNEf/vAHNTY26vvf/368l5Zw+vv79d5779n3u7q61NnZqezsbOXn58vn86m+vl6FhYUqLCxUfX290tPTVVVVFcdVJ4ZzvXZer1ff/va3dfjwYf3617/W8PCw/ZmE7OxspaamxmvZuFws4Dxefvllq6ioyHI6ndYNN9xgbdmyJd5LSnihUMj64Q9/aOXn51tf+tKXrOuuu8566KGHrHA4HO+lJZzXXnvNkjTqtmTJEsuyLGtkZMT68Y9/bHk8HsvpdFpf//rXrbfffju+i04Q53rturq6xtwnyXrttdfivXRcBlyHDgCAAXgPHQAAAxB0AAAMQNABADAAQQcAwAAEHQAAAxB0AAAMQNABADAAQQcAwAAEHQAAAxB0AAAMQNABADAAQQcAwAAEHQAAAxB0AAAMQNABADAAQQcAwAAEHQAAAxB0AAAMQNABADAAQQcAwAAEHQAAAxB0AAAM8P8ALmxsayS97QkAAAAASUVORK5CYII=' width=500.0/>\n",
       "            </div>\n",
       "        "
      ],
      "text/plain": [
       "Canvas(toolbar=Toolbar(toolitems=[('Home', 'Reset original view', 'home', 'home'), ('Back', 'Back to previous …"
      ]
     },
     "metadata": {},
     "output_type": "display_data"
    }
   ],
   "source": [
    "fig1, ax1 = plt.subplots(1,1,figsize=(5,4))\n",
    "ax1.hist(df['order_transform'],bins=20)\n",
    "plt.show()"
   ]
  },
  {
   "cell_type": "markdown",
   "metadata": {},
   "source": [
    "Determine intervals where 95% of our data values lay"
   ]
  },
  {
   "cell_type": "code",
   "execution_count": 20,
   "metadata": {},
   "outputs": [
    {
     "data": {
      "text/plain": [
       "(3.9969255394820506, 7.3081964981785195)"
      ]
     },
     "execution_count": 20,
     "metadata": {},
     "output_type": "execute_result"
    }
   ],
   "source": [
    "mu1 = df['order_transform'].mean()\n",
    "sigma1 = df['order_transform'].std()\n",
    "norm.interval(alpha=.95,loc=mu1,scale=sigma1)"
   ]
  },
  {
   "cell_type": "markdown",
   "metadata": {},
   "source": [
    "Check for how many rows are data are extreme values below 2.5%"
   ]
  },
  {
   "cell_type": "code",
   "execution_count": 21,
   "metadata": {},
   "outputs": [
    {
     "data": {
      "text/html": [
       "<div>\n",
       "<style scoped>\n",
       "    .dataframe tbody tr th:only-of-type {\n",
       "        vertical-align: middle;\n",
       "    }\n",
       "\n",
       "    .dataframe tbody tr th {\n",
       "        vertical-align: top;\n",
       "    }\n",
       "\n",
       "    .dataframe thead th {\n",
       "        text-align: right;\n",
       "    }\n",
       "</style>\n",
       "<table border=\"1\" class=\"dataframe\">\n",
       "  <thead>\n",
       "    <tr style=\"text-align: right;\">\n",
       "      <th></th>\n",
       "      <th>order_id</th>\n",
       "      <th>shop_id</th>\n",
       "      <th>user_id</th>\n",
       "      <th>order_amount</th>\n",
       "      <th>total_items</th>\n",
       "      <th>payment_method</th>\n",
       "      <th>created_at</th>\n",
       "      <th>order_transform</th>\n",
       "    </tr>\n",
       "  </thead>\n",
       "  <tbody>\n",
       "  </tbody>\n",
       "</table>\n",
       "</div>"
      ],
      "text/plain": [
       "Empty DataFrame\n",
       "Columns: [order_id, shop_id, user_id, order_amount, total_items, payment_method, created_at, order_transform]\n",
       "Index: []"
      ]
     },
     "execution_count": 21,
     "metadata": {},
     "output_type": "execute_result"
    }
   ],
   "source": [
    "df[df['order_transform']<3.997]"
   ]
  },
  {
   "cell_type": "markdown",
   "metadata": {},
   "source": [
    "Check for how many rows are data are extreme values are above 97.5%"
   ]
  },
  {
   "cell_type": "code",
   "execution_count": 22,
   "metadata": {},
   "outputs": [
    {
     "data": {
      "text/html": [
       "<div>\n",
       "<style scoped>\n",
       "    .dataframe tbody tr th:only-of-type {\n",
       "        vertical-align: middle;\n",
       "    }\n",
       "\n",
       "    .dataframe tbody tr th {\n",
       "        vertical-align: top;\n",
       "    }\n",
       "\n",
       "    .dataframe thead th {\n",
       "        text-align: right;\n",
       "    }\n",
       "</style>\n",
       "<table border=\"1\" class=\"dataframe\">\n",
       "  <thead>\n",
       "    <tr style=\"text-align: right;\">\n",
       "      <th></th>\n",
       "      <th>order_id</th>\n",
       "      <th>shop_id</th>\n",
       "      <th>user_id</th>\n",
       "      <th>order_amount</th>\n",
       "      <th>total_items</th>\n",
       "      <th>payment_method</th>\n",
       "      <th>created_at</th>\n",
       "      <th>order_transform</th>\n",
       "    </tr>\n",
       "  </thead>\n",
       "  <tbody>\n",
       "    <tr>\n",
       "      <th>15</th>\n",
       "      <td>16</td>\n",
       "      <td>42</td>\n",
       "      <td>607</td>\n",
       "      <td>704000</td>\n",
       "      <td>2000</td>\n",
       "      <td>credit_card</td>\n",
       "      <td>2017-03-07 04:00:00.000</td>\n",
       "      <td>13.464534</td>\n",
       "    </tr>\n",
       "    <tr>\n",
       "      <th>60</th>\n",
       "      <td>61</td>\n",
       "      <td>42</td>\n",
       "      <td>607</td>\n",
       "      <td>704000</td>\n",
       "      <td>2000</td>\n",
       "      <td>credit_card</td>\n",
       "      <td>2017-03-04 04:00:00.000</td>\n",
       "      <td>13.464534</td>\n",
       "    </tr>\n",
       "    <tr>\n",
       "      <th>160</th>\n",
       "      <td>161</td>\n",
       "      <td>78</td>\n",
       "      <td>990</td>\n",
       "      <td>25725</td>\n",
       "      <td>1</td>\n",
       "      <td>credit_card</td>\n",
       "      <td>2017-03-12 05:56:56.834</td>\n",
       "      <td>10.155219</td>\n",
       "    </tr>\n",
       "    <tr>\n",
       "      <th>490</th>\n",
       "      <td>491</td>\n",
       "      <td>78</td>\n",
       "      <td>936</td>\n",
       "      <td>51450</td>\n",
       "      <td>2</td>\n",
       "      <td>debit</td>\n",
       "      <td>2017-03-26 17:08:18.911</td>\n",
       "      <td>10.848366</td>\n",
       "    </tr>\n",
       "    <tr>\n",
       "      <th>493</th>\n",
       "      <td>494</td>\n",
       "      <td>78</td>\n",
       "      <td>983</td>\n",
       "      <td>51450</td>\n",
       "      <td>2</td>\n",
       "      <td>cash</td>\n",
       "      <td>2017-03-16 21:39:35.400</td>\n",
       "      <td>10.848366</td>\n",
       "    </tr>\n",
       "    <tr>\n",
       "      <th>...</th>\n",
       "      <td>...</td>\n",
       "      <td>...</td>\n",
       "      <td>...</td>\n",
       "      <td>...</td>\n",
       "      <td>...</td>\n",
       "      <td>...</td>\n",
       "      <td>...</td>\n",
       "      <td>...</td>\n",
       "    </tr>\n",
       "    <tr>\n",
       "      <th>4646</th>\n",
       "      <td>4647</td>\n",
       "      <td>42</td>\n",
       "      <td>607</td>\n",
       "      <td>704000</td>\n",
       "      <td>2000</td>\n",
       "      <td>credit_card</td>\n",
       "      <td>2017-03-02 04:00:00.000</td>\n",
       "      <td>13.464534</td>\n",
       "    </tr>\n",
       "    <tr>\n",
       "      <th>4715</th>\n",
       "      <td>4716</td>\n",
       "      <td>78</td>\n",
       "      <td>818</td>\n",
       "      <td>77175</td>\n",
       "      <td>3</td>\n",
       "      <td>debit</td>\n",
       "      <td>2017-03-05 05:10:43.633</td>\n",
       "      <td>11.253831</td>\n",
       "    </tr>\n",
       "    <tr>\n",
       "      <th>4868</th>\n",
       "      <td>4869</td>\n",
       "      <td>42</td>\n",
       "      <td>607</td>\n",
       "      <td>704000</td>\n",
       "      <td>2000</td>\n",
       "      <td>credit_card</td>\n",
       "      <td>2017-03-22 04:00:00.000</td>\n",
       "      <td>13.464534</td>\n",
       "    </tr>\n",
       "    <tr>\n",
       "      <th>4882</th>\n",
       "      <td>4883</td>\n",
       "      <td>42</td>\n",
       "      <td>607</td>\n",
       "      <td>704000</td>\n",
       "      <td>2000</td>\n",
       "      <td>credit_card</td>\n",
       "      <td>2017-03-25 04:00:00.000</td>\n",
       "      <td>13.464534</td>\n",
       "    </tr>\n",
       "    <tr>\n",
       "      <th>4918</th>\n",
       "      <td>4919</td>\n",
       "      <td>78</td>\n",
       "      <td>823</td>\n",
       "      <td>25725</td>\n",
       "      <td>1</td>\n",
       "      <td>cash</td>\n",
       "      <td>2017-03-15 13:26:46.262</td>\n",
       "      <td>10.155219</td>\n",
       "    </tr>\n",
       "  </tbody>\n",
       "</table>\n",
       "<p>64 rows × 8 columns</p>\n",
       "</div>"
      ],
      "text/plain": [
       "      order_id  shop_id  user_id  order_amount  total_items payment_method  \\\n",
       "15          16       42      607        704000         2000    credit_card   \n",
       "60          61       42      607        704000         2000    credit_card   \n",
       "160        161       78      990         25725            1    credit_card   \n",
       "490        491       78      936         51450            2          debit   \n",
       "493        494       78      983         51450            2           cash   \n",
       "...        ...      ...      ...           ...          ...            ...   \n",
       "4646      4647       42      607        704000         2000    credit_card   \n",
       "4715      4716       78      818         77175            3          debit   \n",
       "4868      4869       42      607        704000         2000    credit_card   \n",
       "4882      4883       42      607        704000         2000    credit_card   \n",
       "4918      4919       78      823         25725            1           cash   \n",
       "\n",
       "                  created_at  order_transform  \n",
       "15   2017-03-07 04:00:00.000        13.464534  \n",
       "60   2017-03-04 04:00:00.000        13.464534  \n",
       "160  2017-03-12 05:56:56.834        10.155219  \n",
       "490  2017-03-26 17:08:18.911        10.848366  \n",
       "493  2017-03-16 21:39:35.400        10.848366  \n",
       "...                      ...              ...  \n",
       "4646 2017-03-02 04:00:00.000        13.464534  \n",
       "4715 2017-03-05 05:10:43.633        11.253831  \n",
       "4868 2017-03-22 04:00:00.000        13.464534  \n",
       "4882 2017-03-25 04:00:00.000        13.464534  \n",
       "4918 2017-03-15 13:26:46.262        10.155219  \n",
       "\n",
       "[64 rows x 8 columns]"
      ]
     },
     "execution_count": 22,
     "metadata": {},
     "output_type": "execute_result"
    }
   ],
   "source": [
    "df[df['order_transform']>7.308]"
   ]
  },
  {
   "cell_type": "markdown",
   "metadata": {},
   "source": [
    "Remove outlier data which skew results"
   ]
  },
  {
   "cell_type": "code",
   "execution_count": 23,
   "metadata": {},
   "outputs": [
    {
     "data": {
      "text/html": [
       "<div>\n",
       "<style scoped>\n",
       "    .dataframe tbody tr th:only-of-type {\n",
       "        vertical-align: middle;\n",
       "    }\n",
       "\n",
       "    .dataframe tbody tr th {\n",
       "        vertical-align: top;\n",
       "    }\n",
       "\n",
       "    .dataframe thead th {\n",
       "        text-align: right;\n",
       "    }\n",
       "</style>\n",
       "<table border=\"1\" class=\"dataframe\">\n",
       "  <thead>\n",
       "    <tr style=\"text-align: right;\">\n",
       "      <th></th>\n",
       "      <th>order_id</th>\n",
       "      <th>shop_id</th>\n",
       "      <th>user_id</th>\n",
       "      <th>order_amount</th>\n",
       "      <th>total_items</th>\n",
       "      <th>payment_method</th>\n",
       "      <th>created_at</th>\n",
       "      <th>order_transform</th>\n",
       "    </tr>\n",
       "  </thead>\n",
       "  <tbody>\n",
       "    <tr>\n",
       "      <th>0</th>\n",
       "      <td>1</td>\n",
       "      <td>53</td>\n",
       "      <td>746</td>\n",
       "      <td>224</td>\n",
       "      <td>2</td>\n",
       "      <td>cash</td>\n",
       "      <td>2017-03-13 12:36:56.190</td>\n",
       "      <td>5.411646</td>\n",
       "    </tr>\n",
       "    <tr>\n",
       "      <th>1</th>\n",
       "      <td>2</td>\n",
       "      <td>92</td>\n",
       "      <td>925</td>\n",
       "      <td>90</td>\n",
       "      <td>1</td>\n",
       "      <td>cash</td>\n",
       "      <td>2017-03-03 17:38:51.999</td>\n",
       "      <td>4.499810</td>\n",
       "    </tr>\n",
       "    <tr>\n",
       "      <th>2</th>\n",
       "      <td>3</td>\n",
       "      <td>44</td>\n",
       "      <td>861</td>\n",
       "      <td>144</td>\n",
       "      <td>1</td>\n",
       "      <td>cash</td>\n",
       "      <td>2017-03-14 04:23:55.595</td>\n",
       "      <td>4.969813</td>\n",
       "    </tr>\n",
       "    <tr>\n",
       "      <th>3</th>\n",
       "      <td>4</td>\n",
       "      <td>18</td>\n",
       "      <td>935</td>\n",
       "      <td>156</td>\n",
       "      <td>1</td>\n",
       "      <td>credit_card</td>\n",
       "      <td>2017-03-26 12:43:36.649</td>\n",
       "      <td>5.049856</td>\n",
       "    </tr>\n",
       "    <tr>\n",
       "      <th>4</th>\n",
       "      <td>5</td>\n",
       "      <td>18</td>\n",
       "      <td>883</td>\n",
       "      <td>156</td>\n",
       "      <td>1</td>\n",
       "      <td>credit_card</td>\n",
       "      <td>2017-03-01 04:35:10.773</td>\n",
       "      <td>5.049856</td>\n",
       "    </tr>\n",
       "  </tbody>\n",
       "</table>\n",
       "</div>"
      ],
      "text/plain": [
       "   order_id  shop_id  user_id  order_amount  total_items payment_method  \\\n",
       "0         1       53      746           224            2           cash   \n",
       "1         2       92      925            90            1           cash   \n",
       "2         3       44      861           144            1           cash   \n",
       "3         4       18      935           156            1    credit_card   \n",
       "4         5       18      883           156            1    credit_card   \n",
       "\n",
       "               created_at  order_transform  \n",
       "0 2017-03-13 12:36:56.190         5.411646  \n",
       "1 2017-03-03 17:38:51.999         4.499810  \n",
       "2 2017-03-14 04:23:55.595         4.969813  \n",
       "3 2017-03-26 12:43:36.649         5.049856  \n",
       "4 2017-03-01 04:35:10.773         5.049856  "
      ]
     },
     "execution_count": 23,
     "metadata": {},
     "output_type": "execute_result"
    }
   ],
   "source": [
    "df_nonskew = df.loc[(df['order_transform']<7.308) & (df['order_transform']>3.997),:]\n",
    "df_nonskew.head()"
   ]
  },
  {
   "cell_type": "markdown",
   "metadata": {},
   "source": [
    "Plot new distribution"
   ]
  },
  {
   "cell_type": "code",
   "execution_count": 24,
   "metadata": {},
   "outputs": [
    {
     "data": {
      "application/vnd.jupyter.widget-view+json": {
       "model_id": "e35bb31fe7984578af13a208861b0c32",
       "version_major": 2,
       "version_minor": 0
      },
      "image/png": "[encoded data removed]",
      "text/html": [
       "\n",
       "            <div style=\"display: inline-block;\">\n",
       "                <div class=\"jupyter-widgets widget-label\" style=\"text-align: center;\">\n",
       "                    Figure\n",
       "                </div>\n",
       "                <img src='data:image/png;base64,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' width=500.0/>\n",
       "            </div>\n",
       "        "
      ],
      "text/plain": [
       "Canvas(toolbar=Toolbar(toolitems=[('Home', 'Reset original view', 'home', 'home'), ('Back', 'Back to previous …"
      ]
     },
     "metadata": {},
     "output_type": "display_data"
    }
   ],
   "source": [
    "fig2, ax2 = plt.subplots(1,1,figsize=(5,5))\n",
    "ax2.hist(df_nonskew['order_transform'],bins=10)\n",
    "plt.show()"
   ]
  },
  {
   "cell_type": "markdown",
   "metadata": {},
   "source": [
    "Looks like a normal distribution"
   ]
  },
  {
   "cell_type": "code",
   "execution_count": 25,
   "metadata": {},
   "outputs": [
    {
     "data": {
      "text/html": [
       "<div>\n",
       "<style scoped>\n",
       "    .dataframe tbody tr th:only-of-type {\n",
       "        vertical-align: middle;\n",
       "    }\n",
       "\n",
       "    .dataframe tbody tr th {\n",
       "        vertical-align: top;\n",
       "    }\n",
       "\n",
       "    .dataframe thead th {\n",
       "        text-align: right;\n",
       "    }\n",
       "</style>\n",
       "<table border=\"1\" class=\"dataframe\">\n",
       "  <thead>\n",
       "    <tr style=\"text-align: right;\">\n",
       "      <th></th>\n",
       "      <th>count</th>\n",
       "      <th>mean</th>\n",
       "      <th>std</th>\n",
       "      <th>min</th>\n",
       "      <th>25%</th>\n",
       "      <th>50%</th>\n",
       "      <th>75%</th>\n",
       "      <th>max</th>\n",
       "    </tr>\n",
       "  </thead>\n",
       "  <tbody>\n",
       "    <tr>\n",
       "      <th>order_id</th>\n",
       "      <td>4936.0</td>\n",
       "      <td>2499.781199</td>\n",
       "      <td>1444.125385</td>\n",
       "      <td>1.00000</td>\n",
       "      <td>1247.75000</td>\n",
       "      <td>2497.500000</td>\n",
       "      <td>3751.250000</td>\n",
       "      <td>5000.000000</td>\n",
       "    </tr>\n",
       "    <tr>\n",
       "      <th>shop_id</th>\n",
       "      <td>4936.0</td>\n",
       "      <td>49.848055</td>\n",
       "      <td>29.063861</td>\n",
       "      <td>1.00000</td>\n",
       "      <td>24.00000</td>\n",
       "      <td>50.000000</td>\n",
       "      <td>74.000000</td>\n",
       "      <td>100.000000</td>\n",
       "    </tr>\n",
       "    <tr>\n",
       "      <th>user_id</th>\n",
       "      <td>4936.0</td>\n",
       "      <td>849.762966</td>\n",
       "      <td>86.845863</td>\n",
       "      <td>700.00000</td>\n",
       "      <td>775.00000</td>\n",
       "      <td>850.000000</td>\n",
       "      <td>925.000000</td>\n",
       "      <td>999.000000</td>\n",
       "    </tr>\n",
       "    <tr>\n",
       "      <th>order_amount</th>\n",
       "      <td>4936.0</td>\n",
       "      <td>302.285251</td>\n",
       "      <td>159.477154</td>\n",
       "      <td>90.00000</td>\n",
       "      <td>163.00000</td>\n",
       "      <td>284.000000</td>\n",
       "      <td>387.000000</td>\n",
       "      <td>1408.000000</td>\n",
       "    </tr>\n",
       "    <tr>\n",
       "      <th>total_items</th>\n",
       "      <td>4936.0</td>\n",
       "      <td>1.994125</td>\n",
       "      <td>0.981989</td>\n",
       "      <td>1.00000</td>\n",
       "      <td>1.00000</td>\n",
       "      <td>2.000000</td>\n",
       "      <td>3.000000</td>\n",
       "      <td>8.000000</td>\n",
       "    </tr>\n",
       "    <tr>\n",
       "      <th>order_transform</th>\n",
       "      <td>4936.0</td>\n",
       "      <td>5.578432</td>\n",
       "      <td>0.518239</td>\n",
       "      <td>4.49981</td>\n",
       "      <td>5.09375</td>\n",
       "      <td>5.648974</td>\n",
       "      <td>5.958425</td>\n",
       "      <td>7.249926</td>\n",
       "    </tr>\n",
       "  </tbody>\n",
       "</table>\n",
       "</div>"
      ],
      "text/plain": [
       "                  count         mean          std        min         25%  \\\n",
       "order_id         4936.0  2499.781199  1444.125385    1.00000  1247.75000   \n",
       "shop_id          4936.0    49.848055    29.063861    1.00000    24.00000   \n",
       "user_id          4936.0   849.762966    86.845863  700.00000   775.00000   \n",
       "order_amount     4936.0   302.285251   159.477154   90.00000   163.00000   \n",
       "total_items      4936.0     1.994125     0.981989    1.00000     1.00000   \n",
       "order_transform  4936.0     5.578432     0.518239    4.49981     5.09375   \n",
       "\n",
       "                         50%          75%          max  \n",
       "order_id         2497.500000  3751.250000  5000.000000  \n",
       "shop_id            50.000000    74.000000   100.000000  \n",
       "user_id           850.000000   925.000000   999.000000  \n",
       "order_amount      284.000000   387.000000  1408.000000  \n",
       "total_items         2.000000     3.000000     8.000000  \n",
       "order_transform     5.648974     5.958425     7.249926  "
      ]
     },
     "execution_count": 25,
     "metadata": {},
     "output_type": "execute_result"
    }
   ],
   "source": [
    "df_nonskew.describe().T"
   ]
  },
  {
   "cell_type": "markdown",
   "metadata": {},
   "source": [
    "What is our Average Order Value now?"
   ]
  },
  {
   "cell_type": "code",
   "execution_count": 26,
   "metadata": {},
   "outputs": [
    {
     "data": {
      "text/plain": [
       "302.2852512155592"
      ]
     },
     "execution_count": 26,
     "metadata": {},
     "output_type": "execute_result"
    }
   ],
   "source": [
    "df_nonskew['order_amount'].mean()"
   ]
  },
  {
   "cell_type": "code",
   "execution_count": null,
   "metadata": {},
   "outputs": [],
   "source": []
  },
  {
   "cell_type": "code",
   "execution_count": null,
   "metadata": {},
   "outputs": [],
   "source": []
  },
  {
   "cell_type": "code",
   "execution_count": null,
   "metadata": {},
   "outputs": [],
   "source": []
  },
  {
   "cell_type": "code",
   "execution_count": null,
   "metadata": {},
   "outputs": [],
   "source": []
  },
  {
   "cell_type": "code",
   "execution_count": null,
   "metadata": {},
   "outputs": [],
   "source": []
  }
 ],
 "metadata": {
  "interpreter": {
   "hash": "b9294e0f49948a5d4a6f55cb68cf648be2ba50a02c09c7f5f923b155a83eda04"
  },
  "kernelspec": {
   "display_name": "Python 3",
   "language": "python",
   "name": "python3"
  },
  "language_info": {
   "codemirror_mode": {
    "name": "ipython",
    "version": 3
   },
   "file_extension": ".py",
   "mimetype": "text/x-python",
   "name": "python",
   "nbconvert_exporter": "python",
   "pygments_lexer": "ipython3",
   "version": "3.8.8"
  }
 },
 "nbformat": 4,
 "nbformat_minor": 2
}
